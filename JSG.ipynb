{
 "cells": [
  {
   "cell_type": "markdown",
   "id": "816dded0-7781-48bb-8749-5980422c6387",
   "metadata": {},
   "source": [
    "# Pandas and Data Analysis"
   ]
  },
  {
   "cell_type": "code",
   "execution_count": 4,
   "id": "5e215caf",
   "metadata": {},
   "outputs": [
    {
     "data": {
      "text/html": [
       "<img src=\"https://media.giphy.com/media/ggtpYV17RP9lTbc542/giphy.gif\"/>"
      ],
      "text/plain": [
       "<IPython.core.display.Image object>"
      ]
     },
     "metadata": {},
     "output_type": "display_data"
    }
   ],
   "source": [
    "from IPython.display import display, Image\n",
    "url = \"https://media.giphy.com/media/ggtpYV17RP9lTbc542/giphy.gif\"\n",
    "display(Image(url=url))"
   ]
  },
  {
   "cell_type": "markdown",
   "id": "0a9b02f3",
   "metadata": {},
   "source": [
    "# Important Terms\n",
    "## 1) Data Analysis\n",
    "## 2) Data Analysis\n",
    "## 3) Machine Learning\n",
    "## 4) Artificial Intelligence"
   ]
  },
  {
   "cell_type": "markdown",
   "id": "30ee1d40",
   "metadata": {},
   "source": [
    "<h1 style=\"color:red;\">Data Analysis</h1>\n",
    "<br>\n",
    "\n",
    "<span style=\"color:orange;\"> Data analysis involves examining, cleaning, and transforming raw data to discover useful information, draw conclusions, and support decision-making. It is often the preliminary step in the data processing pipeline and can be performed using various statistical techniques and tools like spreadsheets, databases, or specialized software like Python's Pandas.</span>\n",
    "\n",
    "<span style=\"color:orange;\"> Imagine you have a giant jigsaw puzzle. To solve it, you'd first sort out the pieces, maybe finding all the edge pieces or grouping them by color. That's akin to data analysis: sorting through data to find patterns, relationships, or insights.</span>"
   ]
  },
  {
   "cell_type": "markdown",
   "id": "b82df10b",
   "metadata": {},
   "source": [
    "<h1 style=\"color:red;\">Data Science</h1>\n",
    "<br>\n",
    "\n",
    "<span style=\"color:orange;\"> Data science is an interdisciplinary field that uses various techniques, algorithms, processes, and systems to extract knowledge and insights from structured and unstructured data. It encompasses a variety of domains including data analysis, machine learning, statistics, and big data technologies to analyze and interpret complex data.</span>\n",
    "\n",
    "<span style=\"color:orange;\"> Imagine if, after solving the jigsaw puzzle (data analysis), you then used it to predict what the next puzzle picture would look like. Data science is like using your puzzle-solving skills and then applying them to predict, classify, or understand future data.</span>\n"
   ]
  },
  {
   "cell_type": "markdown",
   "id": "863f81ca",
   "metadata": {},
   "source": [
    "<h1 style=\"color:red;\">Machine Learning (ML)</h1>\n",
    "<br>\n",
    "\n",
    "<span style=\"color:orange;\"> Machine learning is a subset of artificial intelligence that allows systems to automatically learn and improve from experience without being explicitly programmed. It does so by training on a set of data, learning patterns, and making decisions based on its learning. Algorithms are at the heart of ML, determining how the system will process, analyze, and interpret data.</span>\n",
    "\n",
    "<span style=\"color:orange;\"> Have you ever seen a baby learn to recognize a dog? At first, they might not get it right, but with time and seeing many dogs, they start recognizing them accurately. Machine learning is like that – it's computers \"learning\" from data, improving their understanding over time without being explicitly programmed for the task.</span>\n"
   ]
  },
  {
   "cell_type": "markdown",
   "id": "73b8ab9c",
   "metadata": {},
   "source": [
    "<h1 style=\"color:red;\">Artificial Intelligence (AI)</h1>\n",
    "<br>\n",
    "\n",
    "<span style=\"color:orange;\"> Artificial Intelligence refers to the simulation of human intelligence in machines programmed to think and act like humans. This includes the ability to reason, discover meaning, generalize, recognize patterns, learn from experience, and even exhibit social intelligence. AI is a broad field encompassing various subfields, including ML (which is often seen as the means to achieve AI).</span>\n",
    "\n",
    "<span style=\"color:orange;\"> Imagine a robot that can play chess, understand your speech, and even make a painting. That's AI in action – it's like giving machines a \"brain\" to think, learn, and make decisions, sometimes in ways similar to humans.</span>\n"
   ]
  },
  {
   "cell_type": "code",
   "execution_count": null,
   "id": "3cae3064",
   "metadata": {},
   "outputs": [],
   "source": []
  },
  {
   "cell_type": "code",
   "execution_count": null,
   "id": "23ea052f",
   "metadata": {},
   "outputs": [],
   "source": []
  }
 ],
 "metadata": {
  "kernelspec": {
   "display_name": "Python 3 (ipykernel)",
   "language": "python",
   "name": "python3"
  },
  "language_info": {
   "codemirror_mode": {
    "name": "ipython",
    "version": 3
   },
   "file_extension": ".py",
   "mimetype": "text/x-python",
   "name": "python",
   "nbconvert_exporter": "python",
   "pygments_lexer": "ipython3",
   "version": "3.11.3"
  }
 },
 "nbformat": 4,
 "nbformat_minor": 5
}
